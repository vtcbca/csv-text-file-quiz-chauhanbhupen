{
 "cells": [
  {
   "cell_type": "code",
   "execution_count": 27,
   "id": "640e8c89-8b8c-435c-a4b3-6182a4dfd9ee",
   "metadata": {},
   "outputs": [],
   "source": [
    "import csv"
   ]
  },
  {
   "cell_type": "code",
   "execution_count": 55,
   "id": "c545db20-c533-4723-8cb5-71985bf14304",
   "metadata": {},
   "outputs": [],
   "source": [
    "def getsalary_record():\n",
    "    sid=int(iput(\"enter sid\"))\n",
    "    sname=iput(\"enter sname\")\n",
    "    salary=int(iput(\"enter salary\"))\n",
    "    return[sid,sname,salary]"
   ]
  },
  {
   "cell_type": "code",
   "execution_count": 56,
   "id": "481e8b6b-324f-412a-a27c-46e6387dc2f7",
   "metadata": {},
   "outputs": [],
   "source": [
    "#create a list for getsalary\n",
    "record=[\n",
    "\t[1,\"krish\",5000],\n",
    "\t[2,\"om\",4000],\n",
    "\t[3,\"ram\",6000],\n",
    "\t[4,\"krishna\",6500],\n",
    "\t[5,\"sai\",4200]\n",
    "]\n",
    "\t"
   ]
  },
  {
   "cell_type": "code",
   "execution_count": null,
   "id": "1fa826b0-4185-4d2d-842f-b68dce4ea5e0",
   "metadata": {},
   "outputs": [],
   "source": []
  },
  {
   "cell_type": "code",
   "execution_count": null,
   "id": "f786fc62-937a-4230-a5a5-14d72386b691",
   "metadata": {},
   "outputs": [],
   "source": []
  }
 ],
 "metadata": {
  "kernelspec": {
   "display_name": "Python 3 (ipykernel)",
   "language": "python",
   "name": "python3"
  },
  "language_info": {
   "codemirror_mode": {
    "name": "ipython",
    "version": 3
   },
   "file_extension": ".py",
   "mimetype": "text/x-python",
   "name": "python",
   "nbconvert_exporter": "python",
   "pygments_lexer": "ipython3",
   "version": "3.9.6"
  }
 },
 "nbformat": 4,
 "nbformat_minor": 5
}
